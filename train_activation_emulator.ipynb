{
 "cells": [
  {
   "cell_type": "code",
   "execution_count": null,
   "metadata": {},
   "outputs": [],
   "source": [
    "import MLJ\n",
    "import Flux\n",
    "import CloudMicrophysics.PreprocessAerosolData as PAD\n",
    "import CloudMicrophysics.ActivationEmulatorModels as AEM"
   ]
  },
  {
   "cell_type": "code",
   "execution_count": null,
   "metadata": {},
   "outputs": [],
   "source": [
    "Standardizer = MLJ.@load Standardizer pkg = MLJModels verbosity = 0\n",
    "NeuralNetworkRegressor = MLJ.@load NeuralNetworkRegressor pkg = MLJFlux verbosity = 0"
   ]
  },
  {
   "cell_type": "code",
   "execution_count": null,
   "metadata": {},
   "outputs": [],
   "source": [
    "include(\"ReadAerosolDataset.jl\")"
   ]
  },
  {
   "cell_type": "code",
   "execution_count": null,
   "metadata": {},
   "outputs": [],
   "source": [
    "X_train, Y_train = read_aerosol_dataset(\"datasets/4modal_dataset1_train.csv\")\n",
    "X_train"
   ]
  },
  {
   "cell_type": "code",
   "execution_count": null,
   "metadata": {},
   "outputs": [],
   "source": [
    "pipeline = PAD.preprocess_aerosol_data_with_ARG_act_frac |> Standardizer() |> MLJ.TransformedTargetModel(NeuralNetworkRegressor(\n",
    "    builder = AEM.NNBuilder(50, 100, 30, 0.1, 0.3, 0.2),\n",
    "    optimiser = Flux.Optimise.Adam(0.001, (0.9, 0.999), 1.0e-8),\n",
    "    epochs = 200,\n",
    "    loss = Flux.mse,\n",
    "    batch_size = 50,\n",
    "), transformer=PAD.target_transform, inverse=PAD.inverse_target_transform)\n",
    "mach = MLJ.machine(pipeline, X_train, Y_train)\n",
    "MLJ.fit!(mach, verbosity=2)\n",
    "MLJ.save(\"emulators/4modal_nn_machine1.jls\", mach)"
   ]
  },
  {
   "cell_type": "code",
   "execution_count": null,
   "metadata": {},
   "outputs": [],
   "source": [
    "pipeline = PAD.preprocess_aerosol_data_with_ARG_act_frac |> Standardizer() |> MLJ.TransformedTargetModel(AEM.GPRegressor(1, 200, false, false, 0), transformer=PAD.target_transform, inverse=PAD.inverse_target_transform)\n",
    "mach = MLJ.machine(pipeline, X_train, Y_train)\n",
    "MLJ.fit!(mach, verbosity=2)\n",
    "MLJ.save(\"emulators/1modal_gp_machine1.jls\", mach)"
   ]
  }
 ],
 "metadata": {
  "kernelspec": {
   "display_name": "Julia 1.8.5",
   "language": "julia",
   "name": "julia-1.8"
  },
  "language_info": {
   "file_extension": ".jl",
   "mimetype": "application/julia",
   "name": "julia",
   "version": "1.8.5"
  }
 },
 "nbformat": 4,
 "nbformat_minor": 2
}
