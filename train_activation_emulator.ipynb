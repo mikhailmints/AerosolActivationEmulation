{
 "cells": [
  {
   "cell_type": "code",
   "execution_count": null,
   "metadata": {},
   "outputs": [],
   "source": [
    "using Revise\n",
    "import MLJ\n",
    "import Flux\n",
    "import CloudMicrophysics.PreprocessAerosolData as PAD\n",
    "import CloudMicrophysics.ActivationEmulatorModels as AEM"
   ]
  },
  {
   "cell_type": "code",
   "execution_count": null,
   "metadata": {},
   "outputs": [],
   "source": [
    "Standardizer = MLJ.@load Standardizer pkg = MLJModels\n",
    "EvoTreeRegressor = MLJ.@load EvoTreeRegressor pkg = EvoTrees\n",
    "NeuralNetworkRegressor = MLJ.@load NeuralNetworkRegressor pkg = MLJFlux"
   ]
  },
  {
   "cell_type": "code",
   "execution_count": null,
   "metadata": {},
   "outputs": [],
   "source": [
    "include(\"ReadAerosolDataset.jl\")"
   ]
  },
  {
   "cell_type": "code",
   "execution_count": null,
   "metadata": {},
   "outputs": [],
   "source": [
    "X_train, Y_train, initial_data = read_aerosol_dataset(\"datasets/4modal_dataset1_train.csv\")\n",
    "X_train"
   ]
  },
  {
   "cell_type": "code",
   "execution_count": null,
   "metadata": {},
   "outputs": [],
   "source": [
    "model = EvoTreeRegressor()\n",
    "pipeline =\n",
    "    PAD.preprocess_aerosol_data_standard |>\n",
    "    Standardizer() |>\n",
    "    MLJ.TransformedTargetModel(\n",
    "        MLJ.TunedModel(\n",
    "            tuning = MLJ.Grid(goal = 30),\n",
    "            model = model,\n",
    "            resampling = MLJ.CV(nfolds = 5),\n",
    "            range = [\n",
    "                range(model, :eta, lower = 0.05, upper = 1, scale = :log),\n",
    "                range(model, :max_depth, lower = 3, upper = 15),\n",
    "            ],\n",
    "        ),\n",
    "        transformer = PAD.target_transform,\n",
    "        inverse = PAD.inverse_target_transform,\n",
    "    )\n",
    "mach = MLJ.machine(pipeline, X_train, Y_train)\n",
    "MLJ.fit!(mach, verbosity = 2)\n",
    "MLJ.save(\"emulators/4modal_evotree_machine_naive.jls\", mach)"
   ]
  },
  {
   "cell_type": "code",
   "execution_count": null,
   "metadata": {},
   "outputs": [],
   "source": [
    "pipeline =\n",
    "    PAD.preprocess_aerosol_data_standard |>\n",
    "    Standardizer() |>\n",
    "    MLJ.TransformedTargetModel(\n",
    "        NeuralNetworkRegressor(\n",
    "            builder = AEM.NNBuilder([250, 50, 5], [0.3, 0.0, 0.0]),\n",
    "            optimiser = Flux.Optimise.Adam(0.001, (0.9, 0.999), 1.0e-8),\n",
    "            epochs = 2000,\n",
    "            loss = Flux.mse,\n",
    "            batch_size = 1000,\n",
    "        ),\n",
    "        transformer = PAD.target_transform,\n",
    "        inverse = PAD.inverse_target_transform,\n",
    "    )\n",
    "mach = MLJ.machine(pipeline, X_train, Y_train)\n",
    "MLJ.fit!(mach, verbosity = 2)\n",
    "MLJ.save(\"emulators/4modal_nn_machine_naive.jls\", mach)"
   ]
  },
  {
   "cell_type": "code",
   "execution_count": null,
   "metadata": {},
   "outputs": [],
   "source": [
    "pipeline =\n",
    "    PAD.preprocess_aerosol_data_standard |>\n",
    "    Standardizer() |>\n",
    "    MLJ.TransformedTargetModel(\n",
    "        AEM.GPRegressor(5, 2000, false, true, 20),\n",
    "        transformer = PAD.target_transform,\n",
    "        inverse = PAD.inverse_target_transform,\n",
    "    )\n",
    "mach = MLJ.machine(pipeline, X_train, Y_train)\n",
    "MLJ.fit!(mach, verbosity = 2)\n",
    "MLJ.save(\"emulators/4modal_gp_machine_naive.jls\", mach)"
   ]
  }
 ],
 "metadata": {
  "kernelspec": {
   "display_name": "Julia 1.8.5",
   "language": "julia",
   "name": "julia-1.8"
  },
  "language_info": {
   "file_extension": ".jl",
   "mimetype": "application/julia",
   "name": "julia",
   "version": "1.8.5"
  }
 },
 "nbformat": 4,
 "nbformat_minor": 2
}
