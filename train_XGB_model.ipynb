{
 "cells": [
  {
   "cell_type": "code",
   "execution_count": null,
   "metadata": {},
   "outputs": [],
   "source": [
    "import numpy as np\n",
    "from AerosolActivationEmulatorXGB import AerosolActivationEmulatorXGB\n",
    "from AerosolData import *\n",
    "import scipy.stats\n",
    "import matplotlib.pyplot as plt\n",
    "from PySDM.physics import si"
   ]
  },
  {
   "cell_type": "code",
   "execution_count": null,
   "metadata": {},
   "outputs": [],
   "source": [
    "emulator = AerosolActivationEmulatorXGB(\"datasets/dataset13.csv\", weight_bins=100, weight_sigma=0.1)"
   ]
  },
  {
   "cell_type": "code",
   "execution_count": null,
   "metadata": {},
   "outputs": [],
   "source": [
    "emulator.hyperparameter_search(\n",
    "    param_distributions=[\n",
    "        {\n",
    "            \"learning_rate\": scipy.stats.loguniform(0.05, 1.5),\n",
    "            \"n_estimators\": [50, 100, 250, 1000],\n",
    "            \"max_depth\": np.arange(2, 10, dtype=int),\n",
    "        }\n",
    "    ],\n",
    "    cross_validation_k=5,\n",
    "    n_iter=30,\n",
    ")"
   ]
  },
  {
   "cell_type": "code",
   "execution_count": null,
   "metadata": {},
   "outputs": [],
   "source": [
    "emulator.hyperparams"
   ]
  },
  {
   "cell_type": "code",
   "execution_count": null,
   "metadata": {},
   "outputs": [],
   "source": [
    "emulator.train()"
   ]
  },
  {
   "cell_type": "code",
   "execution_count": null,
   "metadata": {},
   "outputs": [],
   "source": [
    "plt.plot([0, 1], [0, 1], color=\"red\")\n",
    "plt.scatter(emulator.Y_test, emulator.predict_act_frac(emulator.X_test), s=1, color=\"black\")"
   ]
  },
  {
   "cell_type": "code",
   "execution_count": null,
   "metadata": {},
   "outputs": [],
   "source": [
    "aerosol_data1 = [\n",
    "    AerosolData(\n",
    "        mode_N=n,\n",
    "        mode_mean=0.05 / si.cm**3,\n",
    "        mode_stdev=1.8,\n",
    "        mode_kappa=0.54,\n",
    "        velocity=0.5 * si.m / si.s,\n",
    "        initial_temperature=283 * si.K,\n",
    "        initial_pressure=85000 * si.Pa,\n",
    "    ) for n in \n",
    "]"
   ]
  }
 ],
 "metadata": {
  "kernelspec": {
   "display_name": "CliMA",
   "language": "python",
   "name": "python3"
  },
  "language_info": {
   "codemirror_mode": {
    "name": "ipython",
    "version": 3
   },
   "file_extension": ".py",
   "mimetype": "text/x-python",
   "name": "python",
   "nbconvert_exporter": "python",
   "pygments_lexer": "ipython3",
   "version": "3.11.3"
  },
  "orig_nbformat": 4
 },
 "nbformat": 4,
 "nbformat_minor": 2
}
