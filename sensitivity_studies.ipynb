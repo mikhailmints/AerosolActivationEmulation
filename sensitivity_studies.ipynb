{
 "cells": [
  {
   "cell_type": "code",
   "execution_count": null,
   "metadata": {},
   "outputs": [],
   "source": [
    "import numpy as np\n",
    "import pandas as pd\n",
    "from generate_parcel_data import generate_data_one_simulation\n",
    "import matplotlib.pyplot as plt\n",
    "\n",
    "pd.options.display.max_columns = None"
   ]
  },
  {
   "cell_type": "code",
   "execution_count": null,
   "metadata": {},
   "outputs": [],
   "source": [
    "(\n",
    "    mode_Ns,\n",
    "    mode_means,\n",
    "    mode_stdevs,\n",
    "    mode_kappas,\n",
    "    velocity,\n",
    "    initial_temperature,\n",
    "    initial_pressure,\n",
    ") = (\n",
    "    [347898.0, 4.25496e5],\n",
    "    [6.92601e-8, 4.02379e-6],\n",
    "    [1.38781, 2.56175],\n",
    "    [1.10534, 0.509367],\n",
    "    0.0868459,\n",
    "    294.983,\n",
    "    52974.6,\n",
    ")"
   ]
  },
  {
   "cell_type": "code",
   "execution_count": null,
   "metadata": {},
   "outputs": [],
   "source": [
    "n_sd_range = np.linspace(50, 1000, 20)\n",
    "n_sd_study_sim_results = []\n",
    "for n_sd in n_sd_range:\n",
    "    n_sd = int(n_sd)\n",
    "    print(f\"Running with n_sd = {n_sd}\")\n",
    "    df = generate_data_one_simulation(mode_Ns,\n",
    "        mode_means,\n",
    "        mode_stdevs,\n",
    "        mode_kappas,\n",
    "        velocity,\n",
    "        initial_temperature,\n",
    "        initial_pressure,\n",
    "        n_sd=n_sd)[0]\n",
    "    n_sd_study_sim_results.append(df)"
   ]
  },
  {
   "cell_type": "code",
   "execution_count": null,
   "metadata": {},
   "outputs": [],
   "source": [
    "for i, (df, n_sd) in enumerate(zip(n_sd_study_sim_results, n_sd_range)):\n",
    "    plt.plot(df[\"mode_1_act_frac_S_interp\"], color=plt.cm.rainbow(i / len(n_sd_study_sim_results)), label=int(n_sd))\n",
    "plt.legend()"
   ]
  },
  {
   "cell_type": "code",
   "execution_count": null,
   "metadata": {},
   "outputs": [],
   "source": [
    "dz_range = [0.01, 0.1, 1, 10]\n",
    "dz_study_sim_results = []\n",
    "for dz in dz_range:\n",
    "    print(f\"Running with dz = {dz}\")\n",
    "    df = generate_data_one_simulation(mode_Ns,\n",
    "        mode_means,\n",
    "        mode_stdevs,\n",
    "        mode_kappas,\n",
    "        velocity,\n",
    "        initial_temperature,\n",
    "        initial_pressure,\n",
    "        dz_parcel=dz,\n",
    "        initial_rh=1)[0]\n",
    "    dz_study_sim_results.append(df)"
   ]
  },
  {
   "cell_type": "code",
   "execution_count": null,
   "metadata": {},
   "outputs": [],
   "source": [
    "for i, (df, dz) in enumerate(zip(dz_study_sim_results, dz_range)):\n",
    "    plt.plot(df[\"time\"] * df[\"velocity\"], df[\"mode_1_act_frac_S_interp\"], color=plt.cm.rainbow(i / len(dz_study_sim_results)), label=dz)\n",
    "plt.legend()"
   ]
  }
 ],
 "metadata": {
  "kernelspec": {
   "display_name": "base",
   "language": "python",
   "name": "python3"
  },
  "language_info": {
   "codemirror_mode": {
    "name": "ipython",
    "version": 3
   },
   "file_extension": ".py",
   "mimetype": "text/x-python",
   "name": "python",
   "nbconvert_exporter": "python",
   "pygments_lexer": "ipython3",
   "version": "3.11.3"
  }
 },
 "nbformat": 4,
 "nbformat_minor": 2
}
