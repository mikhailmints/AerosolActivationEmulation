{
 "cells": [
  {
   "cell_type": "code",
   "execution_count": null,
   "metadata": {},
   "outputs": [],
   "source": [
    "using Revise\n",
    "import MLJ\n",
    "import DataFrames as DF\n",
    "import CSV\n",
    "import EvoTrees\n",
    "import SymbolicRegression\n",
    "import CloudMicrophysics.PreprocessAerosolData as PAD\n",
    "using DataFramesMeta\n",
    "using CairoMakie\n",
    "using LaTeXStrings"
   ]
  },
  {
   "cell_type": "code",
   "execution_count": null,
   "metadata": {},
   "outputs": [],
   "source": [
    "include(\"ReadAerosolDataset.jl\")"
   ]
  },
  {
   "cell_type": "code",
   "execution_count": null,
   "metadata": {},
   "outputs": [],
   "source": [
    "function plot_single_var_act_frac_profile(grid_pos, dataset_filename::String, x_axis_var::Symbol, mach_filenames, mach_labels, use_Smax_per_mach; kwargs...)\n",
    "    X_test, Y_test = read_aerosol_dataset(dataset_filename)\n",
    "    ARG_act_frac = PAD.get_ARG_act_frac(X_test)[:,1]\n",
    "    PySDM_act_frac = Y_test\n",
    "    x_range = X_test[!, x_axis_var]\n",
    "    ax = Axis(grid_pos; ylabel=\"Mode 1 activation fracion\", kwargs...)\n",
    "    lines!(ax, x_range, PySDM_act_frac, color=:black, label=\"PySDM\")\n",
    "    lines!(ax, x_range, ARG_act_frac, label=\"ARG\")\n",
    "    for (mach_filename, mach_label, use_S_max) in zip(mach_filenames, mach_labels, use_S_max_per_mach)\n",
    "        mach = MLJ.machine(mach_filename)\n",
    "        if use_S_max\n",
    "            pred_act_frac = PAD.get_ARG_act_frac(X_test, MLJ.predict(mach, X_test))[:,1]\n",
    "        else\n",
    "            pred_act_frac = MLJ.predict(mach, X_test)\n",
    "        end\n",
    "        lines!(ax, x_range, pred_act_frac, label=mach_label)\n",
    "    end\n",
    "    return ax\n",
    "end"
   ]
  },
  {
   "cell_type": "code",
   "execution_count": null,
   "metadata": {},
   "outputs": [],
   "source": [
    "mach_filenames = [\"emulators/1modal_nn_machine_naive.jls\", \"emulators/1modal_nn_machine_with_ARG.jls\"]\n",
    "mach_labels = [\"NN model (naive)\", \"NN model (with ARG)\"]\n",
    "use_S_max_per_mach = [false, false]\n",
    "fig = Figure(resolution=(1000, 1000))\n",
    "ax = plot_single_var_act_frac_profile(fig[1,1], \"datasets/single_var_profiles/Silva_Ma_Fig7_mode_N.csv\", :mode_1_N, mach_filenames, mach_labels, use_S_max_per_mach, xlabel=\"Aerosol number concentration (m^-3)\", xscale=log10)\n",
    "plot_single_var_act_frac_profile(fig[1,2], \"datasets/single_var_profiles/Silva_Ma_Fig7_mode_mean.csv\", :mode_1_mean, mach_filenames, mach_labels, use_S_max_per_mach, xlabel=\"Aerosol mean dry radius (m)\", xscale=log10)\n",
    "plot_single_var_act_frac_profile(fig[2,1], \"datasets/single_var_profiles/Silva_Ma_Fig7_velocity.csv\", :velocity, mach_filenames, mach_labels, use_S_max_per_mach, xlabel=\"Updraft velocity (m/s)\", xscale=log10)\n",
    "plot_single_var_act_frac_profile(fig[2,2], \"datasets/single_var_profiles/Silva_Ma_Fig7_kappa.csv\", :mode_1_kappa, mach_filenames, use_S_max_per_mach, xlabel=\"Aerosol hygroscopicity\", mach_labels)\n",
    "Legend(fig[1,3], ax)\n",
    "save(\"plots/single_var_profiles_1modal.pdf\", fig)\n",
    "fig"
   ]
  },
  {
   "cell_type": "code",
   "execution_count": null,
   "metadata": {},
   "outputs": [],
   "source": [
    "mach_filenames = [\"emulators/2modal_nn_machine_naive.jls\", \"emulators/2modal_nn_machine_with_ARG.jls\"]\n",
    "mach_labels = [\"NN model (naive)\", \"NN model (with ARG)\"]\n",
    "use_S_max_per_mach = [false, false]\n",
    "fig = Figure(resolution=(1000, 1000))\n",
    "ax = plot_single_var_act_frac_profile(fig[1,1], \"datasets/single_var_profiles/ARG2000_Fig1_mode_2_N.csv\", :mode_2_N, mach_filenames, mach_labels, use_S_max_per_mach, xlabel=\"Mode 2 aerosol number concentration (m^-3)\")\n",
    "plot_single_var_act_frac_profile(fig[1,2], \"datasets/single_var_profiles/ARG2000_Fig4_mode_2_mean.csv\", :mode_2_mean, mach_filenames, mach_labels, use_S_max_per_mach, xlabel=\"Mode 2 aerosol mean dry radius (m)\", xscale=log10)\n",
    "plot_single_var_act_frac_profile(fig[2,1], \"datasets/single_var_profiles/ARG2000_Fig7a_velocity.csv\", :velocity, mach_filenames, mach_labels, use_S_max_per_mach, xlabel=\"Updraft velocity (m/s)\", xscale=log10)\n",
    "plot_single_var_act_frac_profile(fig[2,2], \"datasets/single_var_profiles/ARG2000_Fig7b_velocity.csv\", :velocity, mach_filenames, mach_labels, use_S_max_per_mach, xlabel=\"Updraft velocity (m/s)\", xscale=log10)\n",
    "Legend(fig[1,3], ax)\n",
    "save(\"plots/single_var_profiles_2modal.pdf\", fig)\n",
    "fig"
   ]
  }
 ],
 "metadata": {
  "kernelspec": {
   "display_name": "Julia 1.8.5",
   "language": "julia",
   "name": "julia-1.8"
  },
  "language_info": {
   "file_extension": ".jl",
   "mimetype": "application/julia",
   "name": "julia",
   "version": "1.8.5"
  }
 },
 "nbformat": 4,
 "nbformat_minor": 2
}
