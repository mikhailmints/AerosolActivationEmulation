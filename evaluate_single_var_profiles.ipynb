{
 "cells": [
  {
   "cell_type": "code",
   "execution_count": null,
   "metadata": {},
   "outputs": [],
   "source": [
    "import MLJ\n",
    "import DataFrames as DF\n",
    "import CSV\n",
    "using DataFramesMeta\n",
    "using StatsPlots\n",
    "using LaTeXStrings"
   ]
  },
  {
   "cell_type": "code",
   "execution_count": null,
   "metadata": {},
   "outputs": [],
   "source": [
    "include(\"PreprocessAerosolData.jl\")\n",
    "include(\"ActivationEmulatorModels.jl\")"
   ]
  },
  {
   "cell_type": "code",
   "execution_count": null,
   "metadata": {},
   "outputs": [],
   "source": [
    "function plot_single_var_profile(dataset_filename::String, x_axis_var::Symbol, mach_filenames, mach_labels; kwargs...)\n",
    "    X_test, Y_test = read_aerosol_dataset(dataset_filename)\n",
    "    ARG_S_max = exp.(preprocess_aerosol_data(X_test).log_ARG_S_max)\n",
    "    PySDM_S_max = exp.(Y_test)\n",
    "    x_range = X_test[!, x_axis_var]\n",
    "    p = plot(x_range, PySDM_S_max, label=\"PySDM\", xlabel=x_axis_var, ylabel=\"S_max\", yscale=:log10; kwargs...)\n",
    "    plot!(x_range, ARG_S_max, label=\"ARG\")\n",
    "    for (mach_filename, mach_label) in zip(mach_filenames, mach_labels)\n",
    "        mach = MLJ.machine(mach_filename)\n",
    "        pred_S_max = exp.(MLJ.predict(mach, X_test))\n",
    "        plot!(x_range, pred_S_max, label=mach_label)\n",
    "    end\n",
    "    return p\n",
    "end"
   ]
  },
  {
   "cell_type": "code",
   "execution_count": null,
   "metadata": {},
   "outputs": [],
   "source": [
    "mach_filenames = [\"emulators/1modal_evotree_machine1.jls\", \"emulators/1modal_nn_machine1.jls\"]\n",
    "mach_labels = [\"EvoTree model\", \"NN model\"]\n",
    "p1 = plot_single_var_profile(\"datasets/single_var_profiles/Silva_Ma_Fig7_mode_N.csv\", :mode_1_N, mach_filenames, mach_labels, xscale=:log10)\n",
    "p2 = plot_single_var_profile(\"datasets/single_var_profiles/Silva_Ma_Fig7_mode_mean.csv\", :mode_1_mean, mach_filenames, mach_labels, xscale=:log10)\n",
    "p3 = plot_single_var_profile(\"datasets/single_var_profiles/Silva_Ma_Fig7_velocity.csv\", :velocity, mach_filenames, mach_labels, xscale=:log10)\n",
    "p4 = plot_single_var_profile(\"datasets/single_var_profiles/Silva_Ma_Fig7_kappa.csv\", :mode_1_kappa, mach_filenames, mach_labels)\n",
    "plot(p1, p2, p3, p4)"
   ]
  }
 ],
 "metadata": {
  "kernelspec": {
   "display_name": "Julia 1.8.5",
   "language": "julia",
   "name": "julia-1.8"
  },
  "language_info": {
   "file_extension": ".jl",
   "mimetype": "application/julia",
   "name": "julia",
   "version": "1.8.5"
  }
 },
 "nbformat": 4,
 "nbformat_minor": 2
}
