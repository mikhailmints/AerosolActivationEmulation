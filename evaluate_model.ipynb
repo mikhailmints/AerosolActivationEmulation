{
 "cells": [
  {
   "cell_type": "code",
   "execution_count": null,
   "metadata": {},
   "outputs": [],
   "source": [
    "import MLJ\n",
    "import DataFrames as DF\n",
    "import CSV\n",
    "using DataFramesMeta\n",
    "using StatsPlots"
   ]
  },
  {
   "cell_type": "code",
   "execution_count": null,
   "metadata": {},
   "outputs": [],
   "source": [
    "include(\"PreprocessAerosolData.jl\")\n",
    "include(\"ActivationEmulatorModels.jl\")"
   ]
  },
  {
   "cell_type": "code",
   "execution_count": null,
   "metadata": {},
   "outputs": [],
   "source": [
    "X_test, Y_test = read_aerosol_dataset(\"datasets/2modal_dataset2_test.csv\")"
   ]
  },
  {
   "cell_type": "code",
   "execution_count": null,
   "metadata": {},
   "outputs": [],
   "source": [
    "mach = MLJ.machine(\"emulators/2modal_nn_machine5.jls\")"
   ]
  },
  {
   "cell_type": "code",
   "execution_count": null,
   "metadata": {},
   "outputs": [],
   "source": [
    "pred_S_max = exp.(MLJ.predict(mach, X_test).log_S_max)\n",
    "ARG_S_max = exp.(preprocess_aerosol_data(X_test).log_ARG_S_max)\n",
    "PySDM_S_max = exp.(Y_test.log_S_max)"
   ]
  },
  {
   "cell_type": "code",
   "execution_count": null,
   "metadata": {},
   "outputs": [],
   "source": [
    "minpt = min(minimum(PySDM_S_max), minimum(ARG_S_max), minimum(pred_S_max))\n",
    "maxpt = max(maximum(PySDM_S_max), maximum(ARG_S_max), maximum(pred_S_max))\n",
    "\n",
    "function plot_ref_lines!()\n",
    "    plot!([minpt, maxpt], [minpt, maxpt], color=:red, label=nothing)\n",
    "    plot!([minpt, maxpt], [minpt * 2, maxpt * 2], color=:blue, label=nothing)\n",
    "    plot!([minpt, maxpt], [minpt / 2, maxpt / 2], color=:blue, label=nothing)\n",
    "end\n",
    "\n",
    "p1 = scatter(PySDM_S_max, ARG_S_max, color=:black, markersize=1,\n",
    "            markerstrokewidth=0, label=nothing, xscale=:log10, yscale=:log10,\n",
    "            title=\"ARG\", xlabel=\"PySDM S_max\", ylabel=\"Predicted S_max\")\n",
    "plot_ref_lines!()\n",
    "p2 = scatter(PySDM_S_max, pred_S_max, color=:black, markersize=1,\n",
    "            markerstrokewidth=0, label=nothing, xscale=:log10, yscale=:log10,\n",
    "            title=\"Emulator\", xlabel=\"PySDM S_max\", ylabel=\"Predicted S_max\")\n",
    "plot_ref_lines!()\n",
    "plot(p1, p2)\n",
    "savefig(\"plots/model_comparison.pdf\")"
   ]
  },
  {
   "cell_type": "code",
   "execution_count": null,
   "metadata": {},
   "outputs": [],
   "source": [
    "p1 = histogram(ARG_S_max ./ PySDM_S_max, label=nothing, xlabel=\"predicted / true S_max\", title=\"ARG\")\n",
    "p2 = histogram(pred_S_max ./ PySDM_S_max, label=nothing, xlabel=\"predicted / true S_max\", title=\"Emulator\")\n",
    "plot(p1, p2)"
   ]
  }
 ],
 "metadata": {
  "kernelspec": {
   "display_name": "Julia 1.8.5",
   "language": "julia",
   "name": "julia-1.8"
  },
  "language_info": {
   "file_extension": ".jl",
   "mimetype": "application/julia",
   "name": "julia",
   "version": "1.8.5"
  }
 },
 "nbformat": 4,
 "nbformat_minor": 2
}
