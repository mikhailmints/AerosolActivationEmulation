{
 "cells": [
  {
   "cell_type": "code",
   "execution_count": null,
   "metadata": {},
   "outputs": [],
   "source": [
    "import MLJ\n",
    "import DataFrames as DF\n",
    "import CSV\n",
    "using DataFramesMeta\n",
    "using StatsPlots"
   ]
  },
  {
   "cell_type": "code",
   "execution_count": null,
   "metadata": {},
   "outputs": [],
   "source": [
    "include(\"PreprocessAerosolData.jl\")\n",
    "include(\"ActivationEmulatorModels.jl\")"
   ]
  },
  {
   "cell_type": "code",
   "execution_count": null,
   "metadata": {},
   "outputs": [],
   "source": [
    "mach = MLJ.machine(\"emulators/nn_machine2.jls\")"
   ]
  },
  {
   "cell_type": "code",
   "execution_count": null,
   "metadata": {},
   "outputs": [],
   "source": [
    "X_test, Y_test = read_aerosol_dataset(\"datasets/dataset13_test.csv\", true)"
   ]
  },
  {
   "cell_type": "code",
   "execution_count": null,
   "metadata": {},
   "outputs": [],
   "source": [
    "pred = MLJ.predict(mach, X_test).act_frac_S"
   ]
  },
  {
   "cell_type": "code",
   "execution_count": null,
   "metadata": {},
   "outputs": [],
   "source": [
    "p1 = scatter(Y_test.act_frac_S, preprocess_aerosol_data(X_test).ARG_act_frac, color=:black, markersize=1,\n",
    "            markerstrokewidth=0, label=nothing, title=\"ARG\", xlabel=\"PySDM act frac\", ylabel=\"Predicted act frac\")\n",
    "plot!([0, 1], [0, 1], color=:red, label=nothing)\n",
    "p2 = scatter(Y_test.act_frac_S, pred, color=:black, markersize=1, markerstrokewidth=0, label=nothing,\n",
    "            title=\"Emulator\", xlabel=\"PySDM act frac\", ylabel=\"Predicted act frac\")\n",
    "plot!([0, 1], [0, 1], color=:red, label=nothing)\n",
    "plot(p1, p2)"
   ]
  },
  {
   "cell_type": "code",
   "execution_count": null,
   "metadata": {},
   "outputs": [],
   "source": [
    "p1 = histogram(preprocess_aerosol_data(X_test).ARG_act_frac - Y_test.act_frac_S, label=nothing, xlabel=\"predicted - true act frac\", title=\"ARG\")\n",
    "p2 = histogram(pred - Y_test.act_frac_S, label=nothing, xlabel=\"predicted - true act frac\", title=\"Emulator\")\n",
    "plot(p1, p2)"
   ]
  }
 ],
 "metadata": {
  "kernelspec": {
   "display_name": "Julia 1.8.5",
   "language": "julia",
   "name": "julia-1.8"
  },
  "language_info": {
   "file_extension": ".jl",
   "mimetype": "application/julia",
   "name": "julia",
   "version": "1.8.5"
  }
 },
 "nbformat": 4,
 "nbformat_minor": 2
}
