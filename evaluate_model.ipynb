{
 "cells": [
  {
   "cell_type": "code",
   "execution_count": null,
   "metadata": {},
   "outputs": [],
   "source": [
    "import MLJ\n",
    "import DataFrames as DF\n",
    "import CSV\n",
    "import StatsBase\n",
    "import CloudMicrophysics.PreprocessAerosolData as PAD\n",
    "using DataFramesMeta\n",
    "using CairoMakie"
   ]
  },
  {
   "cell_type": "code",
   "execution_count": null,
   "metadata": {},
   "outputs": [],
   "source": [
    "include(\"ReadAerosolDataset.jl\")"
   ]
  },
  {
   "cell_type": "code",
   "execution_count": null,
   "metadata": {},
   "outputs": [],
   "source": [
    "function plot_accuracy_scatterplot(dataset_filename, mach_filename=nothing)\n",
    "    X_test, Y_test, initial_data = read_aerosol_dataset(dataset_filename)\n",
    "    ARG_act_frac = PreprocessAerosolData.get_ARG_act_frac(X_test)[:,1]\n",
    "    if mach_filename === nothing\n",
    "        pred_act_frac = ARG_act_frac\n",
    "    else\n",
    "        mach = MLJ.machine(mach_filename)\n",
    "        @time \"Time to predict\" pred_act_frac = MLJ.predict(mach, X_test)\n",
    "        # pred_act_frac = PreprocessAerosolData.get_ARG_act_frac(X_test, MLJ.predict(mach, X_test))[:,1]\n",
    "    end\n",
    "    PySDM_act_frac = Y_test\n",
    "    # PySDM_act_frac = PreprocessAerosolData.get_ARG_act_frac(X_test, Y_test)[:,1]\n",
    "    println(\"RMSE: \", sqrt(StatsBase.msd(PySDM_act_frac, pred_act_frac)))\n",
    "    fig = Figure(resolution=(500, 500))\n",
    "    ax = Axis(fig[1,1], xlabel=\"PySDM act frac\", ylabel=\"Predicted act frac\")\n",
    "    scatter!(ax, PySDM_act_frac, pred_act_frac, color=:blue, markersize=10, alpha=0.2)\n",
    "    lines!(ax, [0, 1], [0, 1], color=:red, label=nothing)\n",
    "    return fig\n",
    "end"
   ]
  },
  {
   "cell_type": "code",
   "execution_count": null,
   "metadata": {},
   "outputs": [],
   "source": [
    "plot_accuracy_scatterplot(\"datasets/4modal_dataset1_test.csv\", \"emulators/4modal_nn_machine1.jls\")"
   ]
  },
  {
   "cell_type": "code",
   "execution_count": null,
   "metadata": {},
   "outputs": [],
   "source": []
  }
 ],
 "metadata": {
  "kernelspec": {
   "display_name": "Julia 1.8.5",
   "language": "julia",
   "name": "julia-1.8"
  },
  "language_info": {
   "file_extension": ".jl",
   "mimetype": "application/julia",
   "name": "julia",
   "version": "1.8.5"
  }
 },
 "nbformat": 4,
 "nbformat_minor": 2
}
